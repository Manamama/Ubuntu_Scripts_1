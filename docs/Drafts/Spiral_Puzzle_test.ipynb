{
 "cells": [
  {
   "cell_type": "code",
   "execution_count": 1,
   "id": "95f5755c-37a2-49f8-85df-8690f0ac92c6",
   "metadata": {},
   "outputs": [
    {
     "name": "stdout",
     "output_type": "stream",
     "text": [
      "Spiral shall go here\n"
     ]
    }
   ],
   "source": [
    "#That shall be spiral\n",
    "print(\"Spiral shall go here\")\n",
    "\n"
   ]
  },
  {
   "cell_type": "code",
   "execution_count": null,
   "id": "3b8b42e0-0420-42ad-a616-a9d0262bf568",
   "metadata": {},
   "outputs": [],
   "source": [
    "# ver. 2.4\n",
    "def red_spiral(n):\n",
    "    grid = [['⬜'] * n for _ in range(n)]\n",
    "    x = y = n // 2  # Start from the center\n",
    "    grid[y][x] = '🟥'\n",
    "    count = 1\n",
    "    limit = n * n // 2 + 1  # Fill just over half\n",
    "    step = 0\n",
    "    direction = -1  # 0:→, 1:↓, 2:←, 3:↑\n",
    "\n",
    "    def print_grid():\n",
    "        for row in grid:\n",
    "            print(' '.join(row))\n",
    "        print()\n",
    "\n",
    "    print_grid()  # Print initial grid\n",
    "\n",
    "    while count < limit:\n",
    "        for _ in range(step):\n",
    "            nx, ny = x, y\n",
    "            if direction == 0: nx += 1\n",
    "            elif direction == 1: ny += 1\n",
    "            elif direction == 2: nx -= 1\n",
    "            else: ny -= 1\n",
    "\n",
    "            if 0 <= nx < n and 0 <= ny < n:\n",
    "                x, y = nx, ny\n",
    "                grid[y][x] = '🟥'\n",
    "                count += 1\n",
    "            else:\n",
    "                print_grid()\n",
    "                return\n",
    "\n",
    "        if step >= 1:  # Only print after movement (skip step = 0)\n",
    "            print_grid()\n",
    "            print()\n",
    "        step += 1\n",
    "        direction = (direction + 1) % 4\n",
    "\n",
    "    print_grid()  # Final grid after loop completes\n",
    "\n",
    "red_spiral(5)"
   ]
  }
 ],
 "metadata": {
  "kernelspec": {
   "display_name": "Python 3 (ipykernel)",
   "language": "python",
   "name": "python3"
  },
  "language_info": {
   "codemirror_mode": {
    "name": "ipython",
    "version": 3
   },
   "file_extension": ".py",
   "mimetype": "text/x-python",
   "name": "python",
   "nbconvert_exporter": "python",
   "pygments_lexer": "ipython3",
   "version": "3.12.1"
  }
 },
 "nbformat": 4,
 "nbformat_minor": 5
}
